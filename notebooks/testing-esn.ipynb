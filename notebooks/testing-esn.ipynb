{
 "cells": [
  {
   "cell_type": "code",
   "execution_count": 1,
   "id": "288010f8",
   "metadata": {},
   "outputs": [],
   "source": [
    "import sys\n",
    "sys.path.insert(1, '../library')\n",
    "import New_ESN\n",
    "import helpers\n",
    "from sklearn.model_selection import TimeSeriesSplit\n",
    "import yfinance as yf\n",
    "import numpy as np"
   ]
  },
  {
   "cell_type": "code",
   "execution_count": 2,
   "id": "c5079b43",
   "metadata": {},
   "outputs": [
    {
     "data": {
      "text/html": [
       "<div>\n",
       "<style scoped>\n",
       "    .dataframe tbody tr th:only-of-type {\n",
       "        vertical-align: middle;\n",
       "    }\n",
       "\n",
       "    .dataframe tbody tr th {\n",
       "        vertical-align: top;\n",
       "    }\n",
       "\n",
       "    .dataframe thead th {\n",
       "        text-align: right;\n",
       "    }\n",
       "</style>\n",
       "<table border=\"1\" class=\"dataframe\">\n",
       "  <thead>\n",
       "    <tr style=\"text-align: right;\">\n",
       "      <th></th>\n",
       "      <th>Open</th>\n",
       "      <th>High</th>\n",
       "      <th>Low</th>\n",
       "      <th>Close</th>\n",
       "      <th>Volume</th>\n",
       "      <th>Dividends</th>\n",
       "      <th>Stock Splits</th>\n",
       "    </tr>\n",
       "    <tr>\n",
       "      <th>Date</th>\n",
       "      <th></th>\n",
       "      <th></th>\n",
       "      <th></th>\n",
       "      <th></th>\n",
       "      <th></th>\n",
       "      <th></th>\n",
       "      <th></th>\n",
       "    </tr>\n",
       "  </thead>\n",
       "  <tbody>\n",
       "    <tr>\n",
       "      <th>2000-08-07 00:00:00-04:00</th>\n",
       "      <td>1.818993</td>\n",
       "      <td>2.098145</td>\n",
       "      <td>1.764963</td>\n",
       "      <td>2.057623</td>\n",
       "      <td>169068400</td>\n",
       "      <td>0.0</td>\n",
       "      <td>0.0</td>\n",
       "    </tr>\n",
       "    <tr>\n",
       "      <th>2000-08-14 00:00:00-04:00</th>\n",
       "      <td>2.026106</td>\n",
       "      <td>2.242224</td>\n",
       "      <td>2.017101</td>\n",
       "      <td>2.089141</td>\n",
       "      <td>43714800</td>\n",
       "      <td>0.0</td>\n",
       "      <td>0.0</td>\n",
       "    </tr>\n",
       "    <tr>\n",
       "      <th>2000-08-21 00:00:00-04:00</th>\n",
       "      <td>2.089140</td>\n",
       "      <td>2.179189</td>\n",
       "      <td>2.044115</td>\n",
       "      <td>2.179189</td>\n",
       "      <td>26162400</td>\n",
       "      <td>0.0</td>\n",
       "      <td>0.0</td>\n",
       "    </tr>\n",
       "    <tr>\n",
       "      <th>2000-08-28 00:00:00-04:00</th>\n",
       "      <td>2.188195</td>\n",
       "      <td>2.377298</td>\n",
       "      <td>2.147673</td>\n",
       "      <td>2.246727</td>\n",
       "      <td>27338400</td>\n",
       "      <td>0.0</td>\n",
       "      <td>0.0</td>\n",
       "    </tr>\n",
       "    <tr>\n",
       "      <th>2000-09-04 00:00:00-04:00</th>\n",
       "      <td>2.237722</td>\n",
       "      <td>2.453840</td>\n",
       "      <td>2.219712</td>\n",
       "      <td>2.359288</td>\n",
       "      <td>20408000</td>\n",
       "      <td>0.0</td>\n",
       "      <td>0.0</td>\n",
       "    </tr>\n",
       "    <tr>\n",
       "      <th>...</th>\n",
       "      <td>...</td>\n",
       "      <td>...</td>\n",
       "      <td>...</td>\n",
       "      <td>...</td>\n",
       "      <td>...</td>\n",
       "      <td>...</td>\n",
       "      <td>...</td>\n",
       "    </tr>\n",
       "    <tr>\n",
       "      <th>2023-01-23 00:00:00-05:00</th>\n",
       "      <td>11.570000</td>\n",
       "      <td>14.460000</td>\n",
       "      <td>9.630000</td>\n",
       "      <td>11.290000</td>\n",
       "      <td>115001400</td>\n",
       "      <td>0.0</td>\n",
       "      <td>0.0</td>\n",
       "    </tr>\n",
       "    <tr>\n",
       "      <th>2023-01-30 00:00:00-05:00</th>\n",
       "      <td>11.490000</td>\n",
       "      <td>11.770000</td>\n",
       "      <td>10.730000</td>\n",
       "      <td>10.840000</td>\n",
       "      <td>125902700</td>\n",
       "      <td>0.0</td>\n",
       "      <td>0.0</td>\n",
       "    </tr>\n",
       "    <tr>\n",
       "      <th>2023-02-06 00:00:00-05:00</th>\n",
       "      <td>10.840000</td>\n",
       "      <td>11.570000</td>\n",
       "      <td>10.710000</td>\n",
       "      <td>11.530000</td>\n",
       "      <td>136987100</td>\n",
       "      <td>0.0</td>\n",
       "      <td>0.0</td>\n",
       "    </tr>\n",
       "    <tr>\n",
       "      <th>2023-02-13 00:00:00-05:00</th>\n",
       "      <td>11.490000</td>\n",
       "      <td>11.800000</td>\n",
       "      <td>11.390000</td>\n",
       "      <td>11.550000</td>\n",
       "      <td>84510700</td>\n",
       "      <td>0.0</td>\n",
       "      <td>0.0</td>\n",
       "    </tr>\n",
       "    <tr>\n",
       "      <th>2023-02-20 00:00:00-05:00</th>\n",
       "      <td>11.500000</td>\n",
       "      <td>11.650000</td>\n",
       "      <td>11.190000</td>\n",
       "      <td>11.235000</td>\n",
       "      <td>21703557</td>\n",
       "      <td>0.0</td>\n",
       "      <td>0.0</td>\n",
       "    </tr>\n",
       "  </tbody>\n",
       "</table>\n",
       "<p>1177 rows × 7 columns</p>\n",
       "</div>"
      ],
      "text/plain": [
       "                                Open       High        Low      Close  \\\n",
       "Date                                                                    \n",
       "2000-08-07 00:00:00-04:00   1.818993   2.098145   1.764963   2.057623   \n",
       "2000-08-14 00:00:00-04:00   2.026106   2.242224   2.017101   2.089141   \n",
       "2000-08-21 00:00:00-04:00   2.089140   2.179189   2.044115   2.179189   \n",
       "2000-08-28 00:00:00-04:00   2.188195   2.377298   2.147673   2.246727   \n",
       "2000-09-04 00:00:00-04:00   2.237722   2.453840   2.219712   2.359288   \n",
       "...                              ...        ...        ...        ...   \n",
       "2023-01-23 00:00:00-05:00  11.570000  14.460000   9.630000  11.290000   \n",
       "2023-01-30 00:00:00-05:00  11.490000  11.770000  10.730000  10.840000   \n",
       "2023-02-06 00:00:00-05:00  10.840000  11.570000  10.710000  11.530000   \n",
       "2023-02-13 00:00:00-05:00  11.490000  11.800000  11.390000  11.550000   \n",
       "2023-02-20 00:00:00-05:00  11.500000  11.650000  11.190000  11.235000   \n",
       "\n",
       "                              Volume  Dividends  Stock Splits  \n",
       "Date                                                           \n",
       "2000-08-07 00:00:00-04:00  169068400        0.0           0.0  \n",
       "2000-08-14 00:00:00-04:00   43714800        0.0           0.0  \n",
       "2000-08-21 00:00:00-04:00   26162400        0.0           0.0  \n",
       "2000-08-28 00:00:00-04:00   27338400        0.0           0.0  \n",
       "2000-09-04 00:00:00-04:00   20408000        0.0           0.0  \n",
       "...                              ...        ...           ...  \n",
       "2023-01-23 00:00:00-05:00  115001400        0.0           0.0  \n",
       "2023-01-30 00:00:00-05:00  125902700        0.0           0.0  \n",
       "2023-02-06 00:00:00-05:00  136987100        0.0           0.0  \n",
       "2023-02-13 00:00:00-05:00   84510700        0.0           0.0  \n",
       "2023-02-20 00:00:00-05:00   21703557        0.0           0.0  \n",
       "\n",
       "[1177 rows x 7 columns]"
      ]
     },
     "execution_count": 2,
     "metadata": {},
     "output_type": "execute_result"
    }
   ],
   "source": [
    "petra = yf.Ticker('PBR')\n",
    "petra_historical = petra.history(period=\"max\", interval=\"1wk\")\n",
    "petra_historical"
   ]
  },
  {
   "cell_type": "code",
   "execution_count": 3,
   "id": "e164ccd6",
   "metadata": {},
   "outputs": [
    {
     "data": {
      "text/plain": [
       "((1077, 4), (100, 4))"
      ]
     },
     "execution_count": 3,
     "metadata": {},
     "output_type": "execute_result"
    }
   ],
   "source": [
    "train_data = np.array(petra_historical[['Open','High','Low', 'Close']])[:-100]\n",
    "test_data = np.array(petra_historical[['Open','High','Low', 'Close']])[-100:]\n",
    "train_data.shape, test_data.shape"
   ]
  },
  {
   "cell_type": "code",
   "execution_count": 4,
   "id": "d65a7b70",
   "metadata": {},
   "outputs": [
    {
     "data": {
      "text/plain": [
       "(1076, 2)"
      ]
     },
     "execution_count": 4,
     "metadata": {},
     "output_type": "execute_result"
    }
   ],
   "source": [
    "label_train_data = []\n",
    "for i in range(len(train_data[:,-1])-1):\n",
    "    label_train_data.append(np.hstack([train_data[i,-1],train_data[i+1,-1]]))\n",
    "label_train_data = np.squeeze(label_train_data)\n",
    "label_train_data.shape"
   ]
  },
  {
   "cell_type": "code",
   "execution_count": 5,
   "id": "498ab920",
   "metadata": {},
   "outputs": [
    {
     "data": {
      "text/plain": [
       "(99, 2)"
      ]
     },
     "execution_count": 5,
     "metadata": {},
     "output_type": "execute_result"
    }
   ],
   "source": [
    "label_test_data = []\n",
    "for i in range(len(test_data[:,-1])-1):\n",
    "    label_test_data.append(np.hstack([test_data[i,-1],test_data[i+1,-1]]))\n",
    "label_test_data = np.squeeze(label_test_data)\n",
    "label_test_data.shape"
   ]
  },
  {
   "cell_type": "code",
   "execution_count": 6,
   "id": "a28c3786",
   "metadata": {},
   "outputs": [],
   "source": [
    "size_input = train_data.shape[1]\n",
    "size_output = label_train_data.shape[1]\n",
    "size_reservoir = 200"
   ]
  },
  {
   "cell_type": "code",
   "execution_count": 7,
   "id": "150c39da",
   "metadata": {},
   "outputs": [
    {
     "name": "stdout",
     "output_type": "stream",
     "text": [
      "W_reservoir.shape:  (200, 200)\n",
      "W_in.shape:  (200, 4)\n",
      "W_feedb.shape (200, 2)\n",
      "W_out.shape:  (2, 205)\n"
     ]
    }
   ],
   "source": [
    "esn = New_ESN.ESN(\n",
    "                input_scaling = 1,\n",
    "                epochs = 3,\n",
    "                N_u = size_input,\n",
    "                N_y = size_output,\n",
    "                N_r = size_reservoir,\n",
    "                sparsity = 0.2,\n",
    "                alpha = 0.1, \n",
    "                beta = 0.5, \n",
    "                verbose = True, \n",
    "                method = 'ridge_regression',\n",
    "                TF = True    \n",
    "                )"
   ]
  },
  {
   "cell_type": "code",
   "execution_count": 8,
   "id": "18066c72",
   "metadata": {},
   "outputs": [
    {
     "data": {
      "text/plain": [
       "((1076, 4), (1075, 2))"
      ]
     },
     "execution_count": 8,
     "metadata": {},
     "output_type": "execute_result"
    }
   ],
   "source": [
    "train_data[:-1,:].shape,label_train_data[1:,:].shape"
   ]
  },
  {
   "cell_type": "code",
   "execution_count": 9,
   "id": "fbf931dd",
   "metadata": {},
   "outputs": [
    {
     "name": "stdout",
     "output_type": "stream",
     "text": [
      "Epoch 3 of 3\r"
     ]
    }
   ],
   "source": [
    "esn.fit(train_data[:-2,:],label_train_data[1:,:])"
   ]
  },
  {
   "cell_type": "code",
   "execution_count": 10,
   "id": "80668d92",
   "metadata": {},
   "outputs": [
    {
     "data": {
      "text/plain": [
       "((99, 4), (99, 2))"
      ]
     },
     "execution_count": 10,
     "metadata": {},
     "output_type": "execute_result"
    }
   ],
   "source": [
    "test_data[:-1,:].shape,label_test_data.shape"
   ]
  },
  {
   "cell_type": "code",
   "execution_count": 11,
   "id": "db5c7597",
   "metadata": {
    "scrolled": true
   },
   "outputs": [
    {
     "name": "stdout",
     "output_type": "stream",
     "text": [
      "Prediction 0: [3.87033261 3.91349615]\n",
      "Prediction 1: [3.89103526 3.96407752]\n",
      "Prediction 2: [3.94327716 3.98712424]\n",
      "Prediction 3: [4.04776019 4.03552318]\n",
      "Prediction 4: [4.09679035 4.11142119]\n",
      "Prediction 5: [4.24907777 4.20405469]\n",
      "Prediction 6: [4.40600642 4.3630929 ]\n",
      "Prediction 7: [4.37042318 4.39281641]\n",
      "Prediction 8: [4.60251043 4.53321286]\n",
      "Prediction 9: [4.98968008 4.85361873]\n",
      "Prediction 10: [4.99372696 4.97360731]\n",
      "Prediction 11: [5.11749357 5.10675516]\n",
      "Prediction 12: [5.31112565 5.248311  ]\n",
      "Prediction 13: [5.40370129 5.36721614]\n",
      "Prediction 14: [5.27957974 5.28059401]\n",
      "Prediction 15: [5.23753308 5.23350829]\n",
      "Prediction 16: [5.22692028 5.22847837]\n",
      "Prediction 17: [5.24084454 5.25009934]\n",
      "Prediction 18: [5.51563842 5.42366057]\n",
      "Prediction 19: [5.491228   5.49022114]\n",
      "Prediction 20: [5.41405599 5.42069936]\n",
      "Prediction 21: [5.70279557 5.62852053]\n",
      "Prediction 22: [5.61437684 5.6408618 ]\n",
      "Prediction 23: [5.60928466 5.5763888 ]\n",
      "Prediction 24: [5.51777152 5.54110312]\n",
      "Prediction 25: [5.63324225 5.54870768]\n",
      "Prediction 26: [5.69766183 5.69904616]\n",
      "Prediction 27: [5.70822469 5.71460864]\n",
      "Prediction 28: [5.80165404 5.8036037 ]\n",
      "Prediction 29: [5.73589203 5.69470754]\n",
      "Prediction 30: [5.63438339 5.63414943]\n",
      "Prediction 31: [5.62655893 5.62904561]\n",
      "Prediction 32: [5.64186267 5.63727473]\n",
      "Prediction 33: [5.58279292 5.59982136]\n",
      "Prediction 34: [5.71736813 5.66764405]\n",
      "Prediction 35: [5.9155706 5.8111864]\n",
      "Prediction 36: [6.3521388  6.22945785]\n",
      "Prediction 37: [6.30620815 6.26943824]\n",
      "Prediction 38: [6.24183217 6.20698223]\n",
      "Prediction 39: [6.32056092 6.29323613]\n",
      "Prediction 40: [6.40503389 6.36582849]\n",
      "Prediction 41: [6.94445138 6.68825046]\n",
      "Prediction 42: [6.9964274  6.96011876]\n",
      "Prediction 43: [7.38126281 7.1938801 ]\n",
      "Prediction 44: [7.46534522 7.45378448]\n",
      "Prediction 45: [7.7979911 7.7236584]\n",
      "Prediction 46: [7.86834249 7.87116842]\n",
      "Prediction 47: [8.09907731 8.07721568]\n",
      "Prediction 48: [8.23948393 8.18171093]\n",
      "Prediction 49: [8.21594916 8.21151477]\n",
      "Prediction 50: [8.1219153  8.12169449]\n",
      "Prediction 51: [8.50983855 8.40989343]\n",
      "Prediction 52: [8.68271988 8.6390621 ]\n",
      "Prediction 53: [8.95741423 8.93582262]\n",
      "Prediction 54: [8.79313862 8.81060253]\n",
      "Prediction 55: [8.95811881 8.96139962]\n",
      "Prediction 56: [8.8959615  8.90218357]\n",
      "Prediction 57: [9.14077281 9.08540908]\n",
      "Prediction 58: [9.31502252 9.29170543]\n",
      "Prediction 59: [9.60454179 9.62933832]\n",
      "Prediction 60: [9.48341665 9.48045018]\n",
      "Prediction 61: [9.8644253  9.92097585]\n",
      "Prediction 62: [9.66022817 9.69462126]\n",
      "Prediction 63: [9.15890918 9.18132845]\n",
      "Prediction 64: [8.78790355 8.89599385]\n",
      "Prediction 65: [9.01223954 9.01731696]\n",
      "Prediction 66: [9.0572689  9.08124152]\n",
      "Prediction 67: [8.82442439 8.91982155]\n",
      "Prediction 68: [8.87764126 8.95615118]\n",
      "Prediction 69: [9.81075274 9.47845108]\n",
      "Prediction 70: [9.88247001 9.90531397]\n",
      "Prediction 71: [9.99609156 9.83169362]\n",
      "Prediction 72: [11.08621474 10.99989266]\n",
      "Prediction 73: [11.79867675 11.62233644]\n",
      "Prediction 74: [11.93779745 11.87997443]\n",
      "Prediction 75: [11.57628164 11.68466325]\n",
      "Prediction 76: [11.3961164  11.45337067]\n",
      "Prediction 77: [11.0846858  11.11048798]\n",
      "Prediction 78: [11.03612927 11.1505792 ]\n",
      "Prediction 79: [12.16401458 12.10427   ]\n",
      "Prediction 80: [12.0810463  12.12133689]\n",
      "Prediction 81: [13.13608345 12.73968605]\n",
      "Prediction 82: [11.92867628 11.95151505]\n",
      "Prediction 83: [11.3160972  11.42268605]\n",
      "Prediction 84: [11.11904962 11.19864679]\n",
      "Prediction 85: [10.81006016 10.97087866]\n",
      "Prediction 86: [10.5791764  10.65835318]\n",
      "Prediction 87: [11.54593347 11.42675684]\n",
      "Prediction 88: [11.16775022 11.33837104]\n",
      "Prediction 89: [10.61763875 10.69536634]\n",
      "Prediction 90: [11.17121798 11.00257386]\n",
      "Prediction 91: [10.79289073 11.01109222]\n",
      "Prediction 92: [10.63370187 10.73537173]\n",
      "Prediction 93: [10.84322228 10.97250781]\n",
      "Prediction 94: [11.18301569 11.29809843]\n",
      "Prediction 95: [11.46353502 10.90538327]\n",
      "Prediction 96: [10.8672064  11.06831529]\n",
      "Prediction 97: [11.21791772 11.32087658]\n",
      "Prediction 98: [11.21829171 11.42522232]\n"
     ]
    }
   ],
   "source": [
    "results = esn.predict(test_data[:-1,:],label_test_data)"
   ]
  },
  {
   "cell_type": "code",
   "execution_count": 12,
   "id": "656c9133",
   "metadata": {},
   "outputs": [],
   "source": [
    "import matplotlib.pyplot as plt"
   ]
  },
  {
   "cell_type": "code",
   "execution_count": 19,
   "id": "f5bb3cd9",
   "metadata": {},
   "outputs": [
    {
     "data": {
      "image/png": "[encoded data removed]",
      "text/plain": [
       "<Figure size 432x288 with 1 Axes>"
      ]
     },
     "metadata": {
      "needs_background": "light"
     },
     "output_type": "display_data"
    }
   ],
   "source": [
    "plt.scatter(np.squeeze(results)[:,-1], test_data[1:,-1])\n",
    "plt.show()"
   ]
  },
  {
   "cell_type": "code",
   "execution_count": 23,
   "id": "f9c9055d",
   "metadata": {},
   "outputs": [
    {
     "data": {
      "image/png": "[encoded data removed]",
      "text/plain": [
       "<Figure size 432x288 with 1 Axes>"
      ]
     },
     "metadata": {
      "needs_background": "light"
     },
     "output_type": "display_data"
    }
   ],
   "source": [
    "plt.plot(petra_historical.index[-99:],results, label = 'results')\n",
    "plt.plot(petra_historical.index[-99:],test_data[1:,-1], label = 'real')\n",
    "plt.legend()\n",
    "plt.show()"
   ]
  },
  {
   "cell_type": "code",
   "execution_count": null,
   "id": "3aa70930",
   "metadata": {},
   "outputs": [],
   "source": []
  }
 ],
 "metadata": {
  "kernelspec": {
   "display_name": "Python 3",
   "language": "python",
   "name": "python3"
  },
  "language_info": {
   "codemirror_mode": {
    "name": "ipython",
    "version": 3
   },
   "file_extension": ".py",
   "mimetype": "text/x-python",
   "name": "python",
   "nbconvert_exporter": "python",
   "pygments_lexer": "ipython3",
   "version": "3.8.8"
  }
 },
 "nbformat": 4,
 "nbformat_minor": 5
}
