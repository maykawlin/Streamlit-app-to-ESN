{
 "cells": [
  {
   "cell_type": "code",
   "execution_count": 1,
   "id": "288010f8",
   "metadata": {},
   "outputs": [],
   "source": [
    "import sys\n",
    "sys.path.insert(1, '../library')\n",
    "import New_ESN\n",
    "import helpers\n",
    "from sklearn.model_selection import TimeSeriesSplit\n",
    "import yfinance as yf\n",
    "import numpy as np"
   ]
  },
  {
   "cell_type": "code",
   "execution_count": 2,
   "id": "c5079b43",
   "metadata": {},
   "outputs": [
    {
     "data": {
      "text/html": [
       "<div>\n",
       "<style scoped>\n",
       "    .dataframe tbody tr th:only-of-type {\n",
       "        vertical-align: middle;\n",
       "    }\n",
       "\n",
       "    .dataframe tbody tr th {\n",
       "        vertical-align: top;\n",
       "    }\n",
       "\n",
       "    .dataframe thead th {\n",
       "        text-align: right;\n",
       "    }\n",
       "</style>\n",
       "<table border=\"1\" class=\"dataframe\">\n",
       "  <thead>\n",
       "    <tr style=\"text-align: right;\">\n",
       "      <th></th>\n",
       "      <th>Open</th>\n",
       "      <th>High</th>\n",
       "      <th>Low</th>\n",
       "      <th>Close</th>\n",
       "      <th>Volume</th>\n",
       "      <th>Dividends</th>\n",
       "      <th>Stock Splits</th>\n",
       "    </tr>\n",
       "    <tr>\n",
       "      <th>Date</th>\n",
       "      <th></th>\n",
       "      <th></th>\n",
       "      <th></th>\n",
       "      <th></th>\n",
       "      <th></th>\n",
       "      <th></th>\n",
       "      <th></th>\n",
       "    </tr>\n",
       "  </thead>\n",
       "  <tbody>\n",
       "    <tr>\n",
       "      <th>2000-08-07 00:00:00-04:00</th>\n",
       "      <td>1.818994</td>\n",
       "      <td>2.098146</td>\n",
       "      <td>1.764964</td>\n",
       "      <td>2.057624</td>\n",
       "      <td>169068400</td>\n",
       "      <td>0.0</td>\n",
       "      <td>0.0</td>\n",
       "    </tr>\n",
       "    <tr>\n",
       "      <th>2000-08-14 00:00:00-04:00</th>\n",
       "      <td>2.026106</td>\n",
       "      <td>2.242224</td>\n",
       "      <td>2.017101</td>\n",
       "      <td>2.089140</td>\n",
       "      <td>43714800</td>\n",
       "      <td>0.0</td>\n",
       "      <td>0.0</td>\n",
       "    </tr>\n",
       "    <tr>\n",
       "      <th>2000-08-21 00:00:00-04:00</th>\n",
       "      <td>2.089140</td>\n",
       "      <td>2.179189</td>\n",
       "      <td>2.044116</td>\n",
       "      <td>2.179189</td>\n",
       "      <td>26162400</td>\n",
       "      <td>0.0</td>\n",
       "      <td>0.0</td>\n",
       "    </tr>\n",
       "    <tr>\n",
       "      <th>2000-08-28 00:00:00-04:00</th>\n",
       "      <td>2.188194</td>\n",
       "      <td>2.377297</td>\n",
       "      <td>2.147672</td>\n",
       "      <td>2.246726</td>\n",
       "      <td>27338400</td>\n",
       "      <td>0.0</td>\n",
       "      <td>0.0</td>\n",
       "    </tr>\n",
       "    <tr>\n",
       "      <th>2000-09-04 00:00:00-04:00</th>\n",
       "      <td>2.237722</td>\n",
       "      <td>2.453840</td>\n",
       "      <td>2.219712</td>\n",
       "      <td>2.359288</td>\n",
       "      <td>20408000</td>\n",
       "      <td>0.0</td>\n",
       "      <td>0.0</td>\n",
       "    </tr>\n",
       "    <tr>\n",
       "      <th>...</th>\n",
       "      <td>...</td>\n",
       "      <td>...</td>\n",
       "      <td>...</td>\n",
       "      <td>...</td>\n",
       "      <td>...</td>\n",
       "      <td>...</td>\n",
       "      <td>...</td>\n",
       "    </tr>\n",
       "    <tr>\n",
       "      <th>2023-01-23 00:00:00-05:00</th>\n",
       "      <td>11.570000</td>\n",
       "      <td>14.460000</td>\n",
       "      <td>9.630000</td>\n",
       "      <td>11.290000</td>\n",
       "      <td>115001400</td>\n",
       "      <td>0.0</td>\n",
       "      <td>0.0</td>\n",
       "    </tr>\n",
       "    <tr>\n",
       "      <th>2023-01-30 00:00:00-05:00</th>\n",
       "      <td>11.490000</td>\n",
       "      <td>11.770000</td>\n",
       "      <td>10.730000</td>\n",
       "      <td>10.840000</td>\n",
       "      <td>125902700</td>\n",
       "      <td>0.0</td>\n",
       "      <td>0.0</td>\n",
       "    </tr>\n",
       "    <tr>\n",
       "      <th>2023-02-06 00:00:00-05:00</th>\n",
       "      <td>10.840000</td>\n",
       "      <td>11.570000</td>\n",
       "      <td>10.710000</td>\n",
       "      <td>11.530000</td>\n",
       "      <td>136987100</td>\n",
       "      <td>0.0</td>\n",
       "      <td>0.0</td>\n",
       "    </tr>\n",
       "    <tr>\n",
       "      <th>2023-02-13 00:00:00-05:00</th>\n",
       "      <td>11.490000</td>\n",
       "      <td>11.800000</td>\n",
       "      <td>11.390000</td>\n",
       "      <td>11.550000</td>\n",
       "      <td>84510700</td>\n",
       "      <td>0.0</td>\n",
       "      <td>0.0</td>\n",
       "    </tr>\n",
       "    <tr>\n",
       "      <th>2023-02-20 00:00:00-05:00</th>\n",
       "      <td>11.500000</td>\n",
       "      <td>11.649900</td>\n",
       "      <td>11.290000</td>\n",
       "      <td>11.295000</td>\n",
       "      <td>0</td>\n",
       "      <td>0.0</td>\n",
       "      <td>0.0</td>\n",
       "    </tr>\n",
       "  </tbody>\n",
       "</table>\n",
       "<p>1177 rows × 7 columns</p>\n",
       "</div>"
      ],
      "text/plain": [
       "                                Open       High        Low      Close  \\\n",
       "Date                                                                    \n",
       "2000-08-07 00:00:00-04:00   1.818994   2.098146   1.764964   2.057624   \n",
       "2000-08-14 00:00:00-04:00   2.026106   2.242224   2.017101   2.089140   \n",
       "2000-08-21 00:00:00-04:00   2.089140   2.179189   2.044116   2.179189   \n",
       "2000-08-28 00:00:00-04:00   2.188194   2.377297   2.147672   2.246726   \n",
       "2000-09-04 00:00:00-04:00   2.237722   2.453840   2.219712   2.359288   \n",
       "...                              ...        ...        ...        ...   \n",
       "2023-01-23 00:00:00-05:00  11.570000  14.460000   9.630000  11.290000   \n",
       "2023-01-30 00:00:00-05:00  11.490000  11.770000  10.730000  10.840000   \n",
       "2023-02-06 00:00:00-05:00  10.840000  11.570000  10.710000  11.530000   \n",
       "2023-02-13 00:00:00-05:00  11.490000  11.800000  11.390000  11.550000   \n",
       "2023-02-20 00:00:00-05:00  11.500000  11.649900  11.290000  11.295000   \n",
       "\n",
       "                              Volume  Dividends  Stock Splits  \n",
       "Date                                                           \n",
       "2000-08-07 00:00:00-04:00  169068400        0.0           0.0  \n",
       "2000-08-14 00:00:00-04:00   43714800        0.0           0.0  \n",
       "2000-08-21 00:00:00-04:00   26162400        0.0           0.0  \n",
       "2000-08-28 00:00:00-04:00   27338400        0.0           0.0  \n",
       "2000-09-04 00:00:00-04:00   20408000        0.0           0.0  \n",
       "...                              ...        ...           ...  \n",
       "2023-01-23 00:00:00-05:00  115001400        0.0           0.0  \n",
       "2023-01-30 00:00:00-05:00  125902700        0.0           0.0  \n",
       "2023-02-06 00:00:00-05:00  136987100        0.0           0.0  \n",
       "2023-02-13 00:00:00-05:00   84510700        0.0           0.0  \n",
       "2023-02-20 00:00:00-05:00          0        0.0           0.0  \n",
       "\n",
       "[1177 rows x 7 columns]"
      ]
     },
     "execution_count": 2,
     "metadata": {},
     "output_type": "execute_result"
    }
   ],
   "source": [
    "petra = yf.Ticker('PBR')\n",
    "petra_historical = petra.history(period=\"max\", interval=\"1wk\")\n",
    "petra_historical"
   ]
  },
  {
   "cell_type": "code",
   "execution_count": 3,
   "id": "e164ccd6",
   "metadata": {},
   "outputs": [
    {
     "data": {
      "text/plain": [
       "((1077, 4), (100, 4))"
      ]
     },
     "execution_count": 3,
     "metadata": {},
     "output_type": "execute_result"
    }
   ],
   "source": [
    "train_data = np.array(petra_historical[['Open','High','Low', 'Close']])[:-100]\n",
    "test_data = np.array(petra_historical[['Open','High','Low', 'Close']])[-100:]\n",
    "train_data.shape, test_data.shape"
   ]
  },
  {
   "cell_type": "code",
   "execution_count": 4,
   "id": "a28c3786",
   "metadata": {},
   "outputs": [],
   "source": [
    "size_input = np.array(petra_historical[['Open','High','Low', 'Close']]).shape[1]\n",
    "size_output = 1\n",
    "size_reservoir = 200"
   ]
  },
  {
   "cell_type": "code",
   "execution_count": 5,
   "id": "150c39da",
   "metadata": {},
   "outputs": [
    {
     "name": "stdout",
     "output_type": "stream",
     "text": [
      "W_reservoir.shape:  (200, 200)\n",
      "W_in.shape:  (200, 4)\n",
      "W_feedb.shape (200, 1)\n",
      "W_out.shape:  (1, 205)\n"
     ]
    }
   ],
   "source": [
    "esn = New_ESN.ESN(\n",
    "                input_scaling = 1,\n",
    "                epochs = 3,\n",
    "                N_u = size_input,\n",
    "                N_y = size_output,\n",
    "                N_r = size_reservoir,\n",
    "                sparsity = 0.2,\n",
    "                alpha = 0.1, \n",
    "                beta = 0.5, \n",
    "                verbose = True, \n",
    "                method = 'ridge_regression',\n",
    "                TF = True    \n",
    "                )"
   ]
  },
  {
   "cell_type": "code",
   "execution_count": 6,
   "id": "fbf931dd",
   "metadata": {},
   "outputs": [
    {
     "name": "stdout",
     "output_type": "stream",
     "text": [
      "Epoch 3 of 3\r"
     ]
    }
   ],
   "source": [
    "esn.fit(train_data[:-1,:],train_data[1:,-1])"
   ]
  },
  {
   "cell_type": "code",
   "execution_count": 11,
   "id": "db5c7597",
   "metadata": {
    "scrolled": true
   },
   "outputs": [
    {
     "name": "stdout",
     "output_type": "stream",
     "text": [
      "Prediction 0: 4.291295999097187\n",
      "Prediction 1: 4.296784480258176\n",
      "Prediction 2: 4.2060250901633\n",
      "Prediction 3: 4.466703188686133\n",
      "Prediction 4: 4.482789843503997\n",
      "Prediction 5: 4.798545262656292\n",
      "Prediction 6: 5.092548543996728\n",
      "Prediction 7: 4.917078489088117\n",
      "Prediction 8: 5.340842942132843\n",
      "Prediction 9: 6.025794477715965\n",
      "Prediction 10: 5.917114886927109\n",
      "Prediction 11: 5.885364771235178\n",
      "Prediction 12: 6.162215544180503\n",
      "Prediction 13: 6.142868508152182\n",
      "Prediction 14: 5.659959452250572\n",
      "Prediction 15: 5.510685037250382\n",
      "Prediction 16: 5.49705662340474\n",
      "Prediction 17: 5.494632742758447\n",
      "Prediction 18: 5.801415697653163\n",
      "Prediction 19: 5.8959441402690285\n",
      "Prediction 20: 5.269999420865864\n",
      "Prediction 21: 6.167995383615508\n",
      "Prediction 22: 5.734517118574367\n",
      "Prediction 23: 5.475312765586538\n",
      "Prediction 24: 5.338778279384587\n",
      "Prediction 25: 5.69501567837361\n",
      "Prediction 26: 5.9428102697995175\n",
      "Prediction 27: 5.951649560320819\n",
      "Prediction 28: 6.117275514355744\n",
      "Prediction 29: 5.505324650603883\n",
      "Prediction 30: 5.384079464626952\n",
      "Prediction 31: 5.364761960987104\n",
      "Prediction 32: 5.651277965077236\n",
      "Prediction 33: 5.359594096760234\n",
      "Prediction 34: 5.771057702722767\n",
      "Prediction 35: 5.8783425235549736\n",
      "Prediction 36: 6.895890287950796\n",
      "Prediction 37: 6.6102424437091925\n",
      "Prediction 38: 6.628850809943099\n",
      "Prediction 39: 6.726915169149332\n",
      "Prediction 40: 6.737744961149151\n",
      "Prediction 41: 7.748942466929653\n",
      "Prediction 42: 7.77957349961894\n",
      "Prediction 43: 8.174621493223537\n",
      "Prediction 44: 8.314266309706637\n",
      "Prediction 45: 8.741084329074216\n",
      "Prediction 46: 8.627965537331427\n",
      "Prediction 47: 8.750773368540994\n",
      "Prediction 48: 8.871624755108506\n",
      "Prediction 49: 8.493262520983466\n",
      "Prediction 50: 8.215336974233601\n",
      "Prediction 51: 9.044591250747036\n",
      "Prediction 52: 9.320154398981902\n",
      "Prediction 53: 9.707693872559522\n",
      "Prediction 54: 9.021440232156994\n",
      "Prediction 55: 9.163265718236046\n",
      "Prediction 56: 9.011278258619306\n",
      "Prediction 57: 9.454320631932353\n",
      "Prediction 58: 9.762583708328735\n",
      "Prediction 59: 10.310996413886878\n",
      "Prediction 60: 9.459064870238192\n",
      "Prediction 61: 10.430495351471764\n",
      "Prediction 62: 9.693528213280237\n",
      "Prediction 63: 8.557052970054867\n",
      "Prediction 64: 8.090063388248044\n",
      "Prediction 65: 8.65156115098596\n",
      "Prediction 66: 8.791794383184731\n",
      "Prediction 67: 8.356485274062498\n",
      "Prediction 68: 8.635167626863195\n",
      "Prediction 69: 10.492482556281775\n",
      "Prediction 70: 10.667419966170627\n",
      "Prediction 71: 9.95129230114397\n",
      "Prediction 72: 11.921443917646249\n",
      "Prediction 73: 12.994403928079004\n",
      "Prediction 74: 12.71934582753078\n",
      "Prediction 75: 12.246491900042892\n",
      "Prediction 76: 11.589594503198622\n",
      "Prediction 77: 10.985273692833728\n",
      "Prediction 78: 11.010637290230775\n",
      "Prediction 79: 12.631255755784672\n",
      "Prediction 80: 12.287073438113218\n",
      "Prediction 81: 14.149216909097055\n",
      "Prediction 82: 11.861282459804057\n",
      "Prediction 83: 11.158175068212893\n",
      "Prediction 84: 10.38075547060074\n",
      "Prediction 85: 10.109934646943124\n",
      "Prediction 86: 9.307150076329656\n",
      "Prediction 87: 11.400986212497589\n",
      "Prediction 88: 10.750989391223499\n",
      "Prediction 89: 9.480242659903302\n",
      "Prediction 90: 11.2235322225576\n",
      "Prediction 91: 10.711719862168334\n",
      "Prediction 92: 10.489480326380619\n",
      "Prediction 93: 10.981838297162074\n",
      "Prediction 94: 11.564428529124989\n",
      "Prediction 95: 10.936380977756782\n",
      "Prediction 96: 10.814447568968907\n",
      "Prediction 97: 11.583952551972853\n",
      "Prediction 98: 11.545616644003353\n",
      "Prediction 99: 11.277390718115088\n"
     ]
    }
   ],
   "source": [
    "results = esn.predict(test_data[:,:],test_data[:,-1])"
   ]
  },
  {
   "cell_type": "code",
   "execution_count": 10,
   "id": "656c9133",
   "metadata": {},
   "outputs": [],
   "source": [
    "import matplotlib.pyplot as plt"
   ]
  },
  {
   "cell_type": "code",
   "execution_count": 12,
   "id": "f5bb3cd9",
   "metadata": {},
   "outputs": [
    {
     "data": {
      "image/png": "[encoded data removed]",
      "text/plain": [
       "<Figure size 432x288 with 1 Axes>"
      ]
     },
     "metadata": {
      "needs_background": "light"
     },
     "output_type": "display_data"
    }
   ],
   "source": [
    "plt.scatter(np.squeeze(results), test_data[:,-1])\n",
    "plt.show()"
   ]
  },
  {
   "cell_type": "code",
   "execution_count": 16,
   "id": "d03c61aa",
   "metadata": {},
   "outputs": [
    {
     "data": {
      "image/png": "[encoded data removed]",
      "text/plain": [
       "<Figure size 432x288 with 1 Axes>"
      ]
     },
     "metadata": {
      "needs_background": "light"
     },
     "output_type": "display_data"
    }
   ],
   "source": [
    "plt.plot(petra_historical.index[-100:],results)\n",
    "plt.plot(petra_historical.index[-100:],test_data[:,-1])\n",
    "plt.show()"
   ]
  },
  {
   "cell_type": "code",
   "execution_count": null,
   "id": "b010a168",
   "metadata": {},
   "outputs": [],
   "source": []
  }
 ],
 "metadata": {
  "kernelspec": {
   "display_name": "Python 3",
   "language": "python",
   "name": "python3"
  },
  "language_info": {
   "codemirror_mode": {
    "name": "ipython",
    "version": 3
   },
   "file_extension": ".py",
   "mimetype": "text/x-python",
   "name": "python",
   "nbconvert_exporter": "python",
   "pygments_lexer": "ipython3",
   "version": "3.8.8"
  }
 },
 "nbformat": 4,
 "nbformat_minor": 5
}
